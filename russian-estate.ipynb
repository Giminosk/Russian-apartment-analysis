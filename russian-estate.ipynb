{
 "cells": [
  {
   "cell_type": "markdown",
   "id": "5c07f98a",
   "metadata": {
    "papermill": {
     "duration": 0.017952,
     "end_time": "2023-01-14T23:01:51.592318",
     "exception": false,
     "start_time": "2023-01-14T23:01:51.574366",
     "status": "completed"
    },
    "tags": []
   },
   "source": [
    "# Prerequirements"
   ]
  },
  {
   "cell_type": "code",
   "execution_count": 1,
   "id": "5db3d50d",
   "metadata": {
    "_cell_guid": "b1076dfc-b9ad-4769-8c92-a6c4dae69d19",
    "_uuid": "8f2839f25d086af736a60e9eeb907d3b93b6e0e5",
    "execution": {
     "iopub.execute_input": "2023-01-14T23:01:51.618905Z",
     "iopub.status.busy": "2023-01-14T23:01:51.617661Z",
     "iopub.status.idle": "2023-01-14T23:01:53.081851Z",
     "shell.execute_reply": "2023-01-14T23:01:53.080753Z"
    },
    "papermill": {
     "duration": 1.482002,
     "end_time": "2023-01-14T23:01:53.085219",
     "exception": false,
     "start_time": "2023-01-14T23:01:51.603217",
     "status": "completed"
    },
    "tags": []
   },
   "outputs": [],
   "source": [
    "import numpy as np\n",
    "import pandas as pd\n",
    "from sklearn.model_selection import StratifiedKFold, train_test_split, GridSearchCV\n",
    "from sklearn.metrics import r2_score\n",
    "from xgboost import XGBRegressor\n",
    "\n",
    "import matplotlib.pyplot as plt\n",
    "plt.style.use('fivethirtyeight')\n",
    "import seaborn as sns\n",
    "\n",
    "import warnings\n",
    "warnings.filterwarnings('ignore')"
   ]
  },
  {
   "cell_type": "code",
   "execution_count": 2,
   "id": "8c1c86b8",
   "metadata": {
    "execution": {
     "iopub.execute_input": "2023-01-14T23:01:53.108794Z",
     "iopub.status.busy": "2023-01-14T23:01:53.108385Z",
     "iopub.status.idle": "2023-01-14T23:02:08.296105Z",
     "shell.execute_reply": "2023-01-14T23:02:08.294973Z"
    },
    "papermill": {
     "duration": 15.202308,
     "end_time": "2023-01-14T23:02:08.298811",
     "exception": false,
     "start_time": "2023-01-14T23:01:53.096503",
     "status": "completed"
    },
    "tags": []
   },
   "outputs": [],
   "source": [
    "df = pd.read_csv(\"/kaggle/input/russia-real-estate-20182021/all_v2.csv\")"
   ]
  },
  {
   "cell_type": "code",
   "execution_count": 3,
   "id": "18e6be39",
   "metadata": {
    "execution": {
     "iopub.execute_input": "2023-01-14T23:02:08.322248Z",
     "iopub.status.busy": "2023-01-14T23:02:08.321812Z",
     "iopub.status.idle": "2023-01-14T23:02:08.346783Z",
     "shell.execute_reply": "2023-01-14T23:02:08.345550Z"
    },
    "papermill": {
     "duration": 0.040732,
     "end_time": "2023-01-14T23:02:08.350221",
     "exception": false,
     "start_time": "2023-01-14T23:02:08.309489",
     "status": "completed"
    },
    "tags": []
   },
   "outputs": [
    {
     "data": {
      "text/html": [
       "<div>\n",
       "<style scoped>\n",
       "    .dataframe tbody tr th:only-of-type {\n",
       "        vertical-align: middle;\n",
       "    }\n",
       "\n",
       "    .dataframe tbody tr th {\n",
       "        vertical-align: top;\n",
       "    }\n",
       "\n",
       "    .dataframe thead th {\n",
       "        text-align: right;\n",
       "    }\n",
       "</style>\n",
       "<table border=\"1\" class=\"dataframe\">\n",
       "  <thead>\n",
       "    <tr style=\"text-align: right;\">\n",
       "      <th></th>\n",
       "      <th>price</th>\n",
       "      <th>date</th>\n",
       "      <th>time</th>\n",
       "      <th>geo_lat</th>\n",
       "      <th>geo_lon</th>\n",
       "      <th>region</th>\n",
       "      <th>building_type</th>\n",
       "      <th>level</th>\n",
       "      <th>levels</th>\n",
       "      <th>rooms</th>\n",
       "      <th>area</th>\n",
       "      <th>kitchen_area</th>\n",
       "      <th>object_type</th>\n",
       "    </tr>\n",
       "  </thead>\n",
       "  <tbody>\n",
       "    <tr>\n",
       "      <th>0</th>\n",
       "      <td>6050000</td>\n",
       "      <td>2018-02-19</td>\n",
       "      <td>20:00:21</td>\n",
       "      <td>59.805808</td>\n",
       "      <td>30.376141</td>\n",
       "      <td>2661</td>\n",
       "      <td>1</td>\n",
       "      <td>8</td>\n",
       "      <td>10</td>\n",
       "      <td>3</td>\n",
       "      <td>82.6</td>\n",
       "      <td>10.8</td>\n",
       "      <td>1</td>\n",
       "    </tr>\n",
       "    <tr>\n",
       "      <th>1</th>\n",
       "      <td>8650000</td>\n",
       "      <td>2018-02-27</td>\n",
       "      <td>12:04:54</td>\n",
       "      <td>55.683807</td>\n",
       "      <td>37.297405</td>\n",
       "      <td>81</td>\n",
       "      <td>3</td>\n",
       "      <td>5</td>\n",
       "      <td>24</td>\n",
       "      <td>2</td>\n",
       "      <td>69.1</td>\n",
       "      <td>12.0</td>\n",
       "      <td>1</td>\n",
       "    </tr>\n",
       "    <tr>\n",
       "      <th>2</th>\n",
       "      <td>4000000</td>\n",
       "      <td>2018-02-28</td>\n",
       "      <td>15:44:00</td>\n",
       "      <td>56.295250</td>\n",
       "      <td>44.061637</td>\n",
       "      <td>2871</td>\n",
       "      <td>1</td>\n",
       "      <td>5</td>\n",
       "      <td>9</td>\n",
       "      <td>3</td>\n",
       "      <td>66.0</td>\n",
       "      <td>10.0</td>\n",
       "      <td>1</td>\n",
       "    </tr>\n",
       "    <tr>\n",
       "      <th>3</th>\n",
       "      <td>1850000</td>\n",
       "      <td>2018-03-01</td>\n",
       "      <td>11:24:52</td>\n",
       "      <td>44.996132</td>\n",
       "      <td>39.074783</td>\n",
       "      <td>2843</td>\n",
       "      <td>4</td>\n",
       "      <td>12</td>\n",
       "      <td>16</td>\n",
       "      <td>2</td>\n",
       "      <td>38.0</td>\n",
       "      <td>5.0</td>\n",
       "      <td>11</td>\n",
       "    </tr>\n",
       "    <tr>\n",
       "      <th>4</th>\n",
       "      <td>5450000</td>\n",
       "      <td>2018-03-01</td>\n",
       "      <td>17:42:43</td>\n",
       "      <td>55.918767</td>\n",
       "      <td>37.984642</td>\n",
       "      <td>81</td>\n",
       "      <td>3</td>\n",
       "      <td>13</td>\n",
       "      <td>14</td>\n",
       "      <td>2</td>\n",
       "      <td>60.0</td>\n",
       "      <td>10.0</td>\n",
       "      <td>1</td>\n",
       "    </tr>\n",
       "  </tbody>\n",
       "</table>\n",
       "</div>"
      ],
      "text/plain": [
       "     price        date      time    geo_lat    geo_lon  region  building_type  \\\n",
       "0  6050000  2018-02-19  20:00:21  59.805808  30.376141    2661              1   \n",
       "1  8650000  2018-02-27  12:04:54  55.683807  37.297405      81              3   \n",
       "2  4000000  2018-02-28  15:44:00  56.295250  44.061637    2871              1   \n",
       "3  1850000  2018-03-01  11:24:52  44.996132  39.074783    2843              4   \n",
       "4  5450000  2018-03-01  17:42:43  55.918767  37.984642      81              3   \n",
       "\n",
       "   level  levels  rooms  area  kitchen_area  object_type  \n",
       "0      8      10      3  82.6          10.8            1  \n",
       "1      5      24      2  69.1          12.0            1  \n",
       "2      5       9      3  66.0          10.0            1  \n",
       "3     12      16      2  38.0           5.0           11  \n",
       "4     13      14      2  60.0          10.0            1  "
      ]
     },
     "execution_count": 3,
     "metadata": {},
     "output_type": "execute_result"
    }
   ],
   "source": [
    "df.head()"
   ]
  },
  {
   "cell_type": "markdown",
   "id": "265d4f07",
   "metadata": {
    "papermill": {
     "duration": 0.010457,
     "end_time": "2023-01-14T23:02:08.371666",
     "exception": false,
     "start_time": "2023-01-14T23:02:08.361209",
     "status": "completed"
    },
    "tags": []
   },
   "source": [
    "# Feature engineering"
   ]
  },
  {
   "cell_type": "markdown",
   "id": "0aef308b",
   "metadata": {
    "papermill": {
     "duration": 0.010909,
     "end_time": "2023-01-14T23:02:08.393423",
     "exception": false,
     "start_time": "2023-01-14T23:02:08.382514",
     "status": "completed"
    },
    "tags": []
   },
   "source": [
    "#### There are no missing values in the dataset:"
   ]
  },
  {
   "cell_type": "code",
   "execution_count": 4,
   "id": "0ce2b9a4",
   "metadata": {
    "execution": {
     "iopub.execute_input": "2023-01-14T23:02:08.416941Z",
     "iopub.status.busy": "2023-01-14T23:02:08.416524Z",
     "iopub.status.idle": "2023-01-14T23:02:09.013789Z",
     "shell.execute_reply": "2023-01-14T23:02:09.012308Z"
    },
    "papermill": {
     "duration": 0.6132,
     "end_time": "2023-01-14T23:02:09.017492",
     "exception": false,
     "start_time": "2023-01-14T23:02:08.404292",
     "status": "completed"
    },
    "tags": []
   },
   "outputs": [
    {
     "name": "stdout",
     "output_type": "stream",
     "text": [
      "<class 'pandas.core.frame.DataFrame'>\n",
      "RangeIndex: 5477006 entries, 0 to 5477005\n",
      "Data columns (total 13 columns):\n",
      " #   Column         Non-Null Count    Dtype  \n",
      "---  ------         --------------    -----  \n",
      " 0   price          5477006 non-null  int64  \n",
      " 1   date           5477006 non-null  object \n",
      " 2   time           5477006 non-null  object \n",
      " 3   geo_lat        5477006 non-null  float64\n",
      " 4   geo_lon        5477006 non-null  float64\n",
      " 5   region         5477006 non-null  int64  \n",
      " 6   building_type  5477006 non-null  int64  \n",
      " 7   level          5477006 non-null  int64  \n",
      " 8   levels         5477006 non-null  int64  \n",
      " 9   rooms          5477006 non-null  int64  \n",
      " 10  area           5477006 non-null  float64\n",
      " 11  kitchen_area   5477006 non-null  float64\n",
      " 12  object_type    5477006 non-null  int64  \n",
      "dtypes: float64(4), int64(7), object(2)\n",
      "memory usage: 543.2+ MB\n"
     ]
    }
   ],
   "source": [
    "df.info(show_counts=True)"
   ]
  },
  {
   "cell_type": "markdown",
   "id": "4380a786",
   "metadata": {
    "papermill": {
     "duration": 0.010924,
     "end_time": "2023-01-14T23:02:09.039958",
     "exception": false,
     "start_time": "2023-01-14T23:02:09.029034",
     "status": "completed"
    },
    "tags": []
   },
   "source": [
    "#### The dataset has 1523 duplicates. Considering data, it can't be different samples fith same features, so drop them:"
   ]
  },
  {
   "cell_type": "code",
   "execution_count": 5,
   "id": "fb3a5026",
   "metadata": {
    "execution": {
     "iopub.execute_input": "2023-01-14T23:02:09.063943Z",
     "iopub.status.busy": "2023-01-14T23:02:09.063526Z",
     "iopub.status.idle": "2023-01-14T23:02:23.363940Z",
     "shell.execute_reply": "2023-01-14T23:02:23.362623Z"
    },
    "papermill": {
     "duration": 14.315927,
     "end_time": "2023-01-14T23:02:23.366967",
     "exception": false,
     "start_time": "2023-01-14T23:02:09.051040",
     "status": "completed"
    },
    "tags": []
   },
   "outputs": [
    {
     "name": "stdout",
     "output_type": "stream",
     "text": [
      "Number of duplicates: 1523\n"
     ]
    }
   ],
   "source": [
    "print(f'Number of duplicates: {sum(df.duplicated())}')\n",
    "df.drop_duplicates(inplace=True)"
   ]
  },
  {
   "cell_type": "code",
   "execution_count": 6,
   "id": "4808509f",
   "metadata": {
    "execution": {
     "iopub.execute_input": "2023-01-14T23:02:23.391963Z",
     "iopub.status.busy": "2023-01-14T23:02:23.391574Z",
     "iopub.status.idle": "2023-01-14T23:02:25.694908Z",
     "shell.execute_reply": "2023-01-14T23:02:25.693858Z"
    },
    "papermill": {
     "duration": 2.318662,
     "end_time": "2023-01-14T23:02:25.697369",
     "exception": false,
     "start_time": "2023-01-14T23:02:23.378707",
     "status": "completed"
    },
    "tags": []
   },
   "outputs": [
    {
     "data": {
      "text/html": [
       "<div>\n",
       "<style scoped>\n",
       "    .dataframe tbody tr th:only-of-type {\n",
       "        vertical-align: middle;\n",
       "    }\n",
       "\n",
       "    .dataframe tbody tr th {\n",
       "        vertical-align: top;\n",
       "    }\n",
       "\n",
       "    .dataframe thead th {\n",
       "        text-align: right;\n",
       "    }\n",
       "</style>\n",
       "<table border=\"1\" class=\"dataframe\">\n",
       "  <thead>\n",
       "    <tr style=\"text-align: right;\">\n",
       "      <th></th>\n",
       "      <th>count</th>\n",
       "      <th>mean</th>\n",
       "      <th>std</th>\n",
       "      <th>min</th>\n",
       "      <th>25%</th>\n",
       "      <th>50%</th>\n",
       "      <th>75%</th>\n",
       "      <th>max</th>\n",
       "    </tr>\n",
       "  </thead>\n",
       "  <tbody>\n",
       "    <tr>\n",
       "      <th>price</th>\n",
       "      <td>5475483.0</td>\n",
       "      <td>4.421478e+06</td>\n",
       "      <td>2.151016e+07</td>\n",
       "      <td>-2.144967e+09</td>\n",
       "      <td>1.950000e+06</td>\n",
       "      <td>2.990000e+06</td>\n",
       "      <td>4.800020e+06</td>\n",
       "      <td>2.147484e+09</td>\n",
       "    </tr>\n",
       "    <tr>\n",
       "      <th>geo_lat</th>\n",
       "      <td>5475483.0</td>\n",
       "      <td>5.403784e+01</td>\n",
       "      <td>4.622977e+00</td>\n",
       "      <td>4.145906e+01</td>\n",
       "      <td>5.337726e+01</td>\n",
       "      <td>5.517128e+01</td>\n",
       "      <td>5.622613e+01</td>\n",
       "      <td>7.198040e+01</td>\n",
       "    </tr>\n",
       "    <tr>\n",
       "      <th>geo_lon</th>\n",
       "      <td>5475483.0</td>\n",
       "      <td>5.324654e+01</td>\n",
       "      <td>2.074788e+01</td>\n",
       "      <td>1.989020e+01</td>\n",
       "      <td>3.777797e+01</td>\n",
       "      <td>4.307021e+01</td>\n",
       "      <td>6.564969e+01</td>\n",
       "      <td>1.625361e+02</td>\n",
       "    </tr>\n",
       "    <tr>\n",
       "      <th>region</th>\n",
       "      <td>5475483.0</td>\n",
       "      <td>4.307440e+03</td>\n",
       "      <td>3.307991e+03</td>\n",
       "      <td>3.000000e+00</td>\n",
       "      <td>2.661000e+03</td>\n",
       "      <td>2.922000e+03</td>\n",
       "      <td>6.171000e+03</td>\n",
       "      <td>6.188800e+04</td>\n",
       "    </tr>\n",
       "    <tr>\n",
       "      <th>building_type</th>\n",
       "      <td>5475483.0</td>\n",
       "      <td>1.949033e+00</td>\n",
       "      <td>1.038568e+00</td>\n",
       "      <td>0.000000e+00</td>\n",
       "      <td>1.000000e+00</td>\n",
       "      <td>2.000000e+00</td>\n",
       "      <td>3.000000e+00</td>\n",
       "      <td>5.000000e+00</td>\n",
       "    </tr>\n",
       "    <tr>\n",
       "      <th>level</th>\n",
       "      <td>5475483.0</td>\n",
       "      <td>6.213816e+00</td>\n",
       "      <td>4.956792e+00</td>\n",
       "      <td>1.000000e+00</td>\n",
       "      <td>2.000000e+00</td>\n",
       "      <td>5.000000e+00</td>\n",
       "      <td>9.000000e+00</td>\n",
       "      <td>3.900000e+01</td>\n",
       "    </tr>\n",
       "    <tr>\n",
       "      <th>levels</th>\n",
       "      <td>5475483.0</td>\n",
       "      <td>1.139749e+01</td>\n",
       "      <td>6.534970e+00</td>\n",
       "      <td>1.000000e+00</td>\n",
       "      <td>5.000000e+00</td>\n",
       "      <td>1.000000e+01</td>\n",
       "      <td>1.600000e+01</td>\n",
       "      <td>3.900000e+01</td>\n",
       "    </tr>\n",
       "    <tr>\n",
       "      <th>rooms</th>\n",
       "      <td>5475483.0</td>\n",
       "      <td>1.726213e+00</td>\n",
       "      <td>1.082136e+00</td>\n",
       "      <td>-2.000000e+00</td>\n",
       "      <td>1.000000e+00</td>\n",
       "      <td>2.000000e+00</td>\n",
       "      <td>2.000000e+00</td>\n",
       "      <td>1.000000e+01</td>\n",
       "    </tr>\n",
       "    <tr>\n",
       "      <th>area</th>\n",
       "      <td>5475483.0</td>\n",
       "      <td>5.391823e+01</td>\n",
       "      <td>3.335522e+01</td>\n",
       "      <td>7.000000e-02</td>\n",
       "      <td>3.800000e+01</td>\n",
       "      <td>4.802000e+01</td>\n",
       "      <td>6.313000e+01</td>\n",
       "      <td>7.856000e+03</td>\n",
       "    </tr>\n",
       "    <tr>\n",
       "      <th>kitchen_area</th>\n",
       "      <td>5475483.0</td>\n",
       "      <td>1.062817e+01</td>\n",
       "      <td>9.793369e+00</td>\n",
       "      <td>1.000000e-02</td>\n",
       "      <td>7.000000e+00</td>\n",
       "      <td>9.700000e+00</td>\n",
       "      <td>1.270000e+01</td>\n",
       "      <td>9.999000e+03</td>\n",
       "    </tr>\n",
       "    <tr>\n",
       "      <th>object_type</th>\n",
       "      <td>5475483.0</td>\n",
       "      <td>3.943830e+00</td>\n",
       "      <td>4.557649e+00</td>\n",
       "      <td>1.000000e+00</td>\n",
       "      <td>1.000000e+00</td>\n",
       "      <td>1.000000e+00</td>\n",
       "      <td>1.100000e+01</td>\n",
       "      <td>1.100000e+01</td>\n",
       "    </tr>\n",
       "  </tbody>\n",
       "</table>\n",
       "</div>"
      ],
      "text/plain": [
       "                   count          mean           std           min  \\\n",
       "price          5475483.0  4.421478e+06  2.151016e+07 -2.144967e+09   \n",
       "geo_lat        5475483.0  5.403784e+01  4.622977e+00  4.145906e+01   \n",
       "geo_lon        5475483.0  5.324654e+01  2.074788e+01  1.989020e+01   \n",
       "region         5475483.0  4.307440e+03  3.307991e+03  3.000000e+00   \n",
       "building_type  5475483.0  1.949033e+00  1.038568e+00  0.000000e+00   \n",
       "level          5475483.0  6.213816e+00  4.956792e+00  1.000000e+00   \n",
       "levels         5475483.0  1.139749e+01  6.534970e+00  1.000000e+00   \n",
       "rooms          5475483.0  1.726213e+00  1.082136e+00 -2.000000e+00   \n",
       "area           5475483.0  5.391823e+01  3.335522e+01  7.000000e-02   \n",
       "kitchen_area   5475483.0  1.062817e+01  9.793369e+00  1.000000e-02   \n",
       "object_type    5475483.0  3.943830e+00  4.557649e+00  1.000000e+00   \n",
       "\n",
       "                        25%           50%           75%           max  \n",
       "price          1.950000e+06  2.990000e+06  4.800020e+06  2.147484e+09  \n",
       "geo_lat        5.337726e+01  5.517128e+01  5.622613e+01  7.198040e+01  \n",
       "geo_lon        3.777797e+01  4.307021e+01  6.564969e+01  1.625361e+02  \n",
       "region         2.661000e+03  2.922000e+03  6.171000e+03  6.188800e+04  \n",
       "building_type  1.000000e+00  2.000000e+00  3.000000e+00  5.000000e+00  \n",
       "level          2.000000e+00  5.000000e+00  9.000000e+00  3.900000e+01  \n",
       "levels         5.000000e+00  1.000000e+01  1.600000e+01  3.900000e+01  \n",
       "rooms          1.000000e+00  2.000000e+00  2.000000e+00  1.000000e+01  \n",
       "area           3.800000e+01  4.802000e+01  6.313000e+01  7.856000e+03  \n",
       "kitchen_area   7.000000e+00  9.700000e+00  1.270000e+01  9.999000e+03  \n",
       "object_type    1.000000e+00  1.000000e+00  1.100000e+01  1.100000e+01  "
      ]
     },
     "execution_count": 6,
     "metadata": {},
     "output_type": "execute_result"
    }
   ],
   "source": [
    "df.describe().T"
   ]
  },
  {
   "cell_type": "markdown",
   "id": "c9a75e13",
   "metadata": {
    "papermill": {
     "duration": 0.011371,
     "end_time": "2023-01-14T23:02:25.720750",
     "exception": false,
     "start_time": "2023-01-14T23:02:25.709379",
     "status": "completed"
    },
    "tags": []
   },
   "source": [
    "####  From above it can be seen that minimal price is negative, however it's not random value, it's just wrong minus. So make them all positive:"
   ]
  },
  {
   "cell_type": "code",
   "execution_count": 7,
   "id": "2e957946",
   "metadata": {
    "execution": {
     "iopub.execute_input": "2023-01-14T23:02:25.746252Z",
     "iopub.status.busy": "2023-01-14T23:02:25.745786Z",
     "iopub.status.idle": "2023-01-14T23:02:25.779966Z",
     "shell.execute_reply": "2023-01-14T23:02:25.778842Z"
    },
    "papermill": {
     "duration": 0.050221,
     "end_time": "2023-01-14T23:02:25.782689",
     "exception": false,
     "start_time": "2023-01-14T23:02:25.732468",
     "status": "completed"
    },
    "tags": []
   },
   "outputs": [],
   "source": [
    "df['price'] = np.abs(df['price'])"
   ]
  },
  {
   "cell_type": "markdown",
   "id": "141cd6f7",
   "metadata": {
    "papermill": {
     "duration": 0.013151,
     "end_time": "2023-01-14T23:02:25.807257",
     "exception": false,
     "start_time": "2023-01-14T23:02:25.794106",
     "status": "completed"
    },
    "tags": []
   },
   "source": [
    "#### Drop useless feature:"
   ]
  },
  {
   "cell_type": "code",
   "execution_count": 8,
   "id": "66d439ae",
   "metadata": {
    "execution": {
     "iopub.execute_input": "2023-01-14T23:02:25.832915Z",
     "iopub.status.busy": "2023-01-14T23:02:25.832018Z",
     "iopub.status.idle": "2023-01-14T23:02:26.108093Z",
     "shell.execute_reply": "2023-01-14T23:02:26.106888Z"
    },
    "papermill": {
     "duration": 0.292113,
     "end_time": "2023-01-14T23:02:26.111119",
     "exception": false,
     "start_time": "2023-01-14T23:02:25.819006",
     "status": "completed"
    },
    "tags": []
   },
   "outputs": [],
   "source": [
    "df.drop('time', axis=1, inplace=True)"
   ]
  },
  {
   "cell_type": "markdown",
   "id": "24d6bd73",
   "metadata": {
    "papermill": {
     "duration": 0.012427,
     "end_time": "2023-01-14T23:02:26.136192",
     "exception": false,
     "start_time": "2023-01-14T23:02:26.123765",
     "status": "completed"
    },
    "tags": []
   },
   "source": [
    "#### There are 5% samples with number of rooms -2 or -1. Analyzing the median price, it can be concuded that it's one-room apartments:"
   ]
  },
  {
   "cell_type": "code",
   "execution_count": 9,
   "id": "0e7d5c92",
   "metadata": {
    "execution": {
     "iopub.execute_input": "2023-01-14T23:02:26.163638Z",
     "iopub.status.busy": "2023-01-14T23:02:26.163238Z",
     "iopub.status.idle": "2023-01-14T23:02:26.327102Z",
     "shell.execute_reply": "2023-01-14T23:02:26.325775Z"
    },
    "papermill": {
     "duration": 0.180766,
     "end_time": "2023-01-14T23:02:26.329649",
     "exception": false,
     "start_time": "2023-01-14T23:02:26.148883",
     "status": "completed"
    },
    "tags": []
   },
   "outputs": [
    {
     "name": "stdout",
     "output_type": "stream",
     "text": [
      "Samples with number of rooms less or equal zero: 5.596839584745309 %\n",
      "Median price for such apartments: 1890000.0\n"
     ]
    }
   ],
   "source": [
    "print(f'Samples with number of rooms less or equal zero: {len(df[df[\"rooms\"] <= 0]) / len(df) * 100} %')\n",
    "print(f'Median price for such apartments: {np.median(df[df[\"rooms\"] <= 0][\"price\"])}')\n",
    "df['rooms'] = np.abs(df['rooms'])"
   ]
  },
  {
   "cell_type": "markdown",
   "id": "2e0a65bb",
   "metadata": {
    "papermill": {
     "duration": 0.012799,
     "end_time": "2023-01-14T23:02:26.354725",
     "exception": false,
     "start_time": "2023-01-14T23:02:26.341926",
     "status": "completed"
    },
    "tags": []
   },
   "source": [
    "#### Remove some outliers:"
   ]
  },
  {
   "cell_type": "code",
   "execution_count": 10,
   "id": "526c3f7f",
   "metadata": {
    "execution": {
     "iopub.execute_input": "2023-01-14T23:02:26.381556Z",
     "iopub.status.busy": "2023-01-14T23:02:26.381089Z",
     "iopub.status.idle": "2023-01-14T23:02:27.595389Z",
     "shell.execute_reply": "2023-01-14T23:02:27.594077Z"
    },
    "papermill": {
     "duration": 1.230583,
     "end_time": "2023-01-14T23:02:27.598184",
     "exception": false,
     "start_time": "2023-01-14T23:02:26.367601",
     "status": "completed"
    },
    "tags": []
   },
   "outputs": [],
   "source": [
    "df = df[(df['price'] >= 1e6) & (df['price'] <= 20e6)]\n",
    "df = df[(df['area'] >= 20) & (df['area'] <= 300)]\n",
    "df = df[(df['kitchen_area'] >= 5) & (df['kitchen_area'] <= 50)]"
   ]
  },
  {
   "cell_type": "markdown",
   "id": "c99de3e6",
   "metadata": {
    "papermill": {
     "duration": 0.012293,
     "end_time": "2023-01-14T23:02:27.623028",
     "exception": false,
     "start_time": "2023-01-14T23:02:27.610735",
     "status": "completed"
    },
    "tags": []
   },
   "source": [
    "#### There are features representing the apartment floor and all floors in the building. I think it can be useful to create feature that looks like {floor/all_floors}, because usually, apartments on the first and last floors are cheaper. And I created a feature representing average room area:"
   ]
  },
  {
   "cell_type": "code",
   "execution_count": 11,
   "id": "f71ead62",
   "metadata": {
    "execution": {
     "iopub.execute_input": "2023-01-14T23:02:27.647957Z",
     "iopub.status.busy": "2023-01-14T23:02:27.647426Z",
     "iopub.status.idle": "2023-01-14T23:02:28.280342Z",
     "shell.execute_reply": "2023-01-14T23:02:28.279350Z"
    },
    "papermill": {
     "duration": 0.648708,
     "end_time": "2023-01-14T23:02:28.283247",
     "exception": false,
     "start_time": "2023-01-14T23:02:27.634539",
     "status": "completed"
    },
    "tags": []
   },
   "outputs": [],
   "source": [
    "df['level_ratio'] = df['level'] / df['levels']\n",
    "df = df[df['level_ratio'] <= 1]\n",
    "df['room_area'] = df['area'] / df['rooms']"
   ]
  },
  {
   "cell_type": "markdown",
   "id": "76ad534a",
   "metadata": {
    "papermill": {
     "duration": 0.01125,
     "end_time": "2023-01-14T23:02:28.306495",
     "exception": false,
     "start_time": "2023-01-14T23:02:28.295245",
     "status": "completed"
    },
    "tags": []
   },
   "source": [
    "#### Here we are not interested in precise date, it's better to divide this feature into month and year features:"
   ]
  },
  {
   "cell_type": "code",
   "execution_count": 12,
   "id": "411f685f",
   "metadata": {
    "execution": {
     "iopub.execute_input": "2023-01-14T23:02:28.331101Z",
     "iopub.status.busy": "2023-01-14T23:02:28.330670Z",
     "iopub.status.idle": "2023-01-14T23:02:52.311890Z",
     "shell.execute_reply": "2023-01-14T23:02:52.310789Z"
    },
    "papermill": {
     "duration": 23.996821,
     "end_time": "2023-01-14T23:02:52.314793",
     "exception": false,
     "start_time": "2023-01-14T23:02:28.317972",
     "status": "completed"
    },
    "tags": []
   },
   "outputs": [],
   "source": [
    "df['year'] = df['date'].str.split('-').str[0].astype('int')\n",
    "df['month'] = df['date'].str.split('-').str[1].astype('int')\n",
    "df.drop('date', axis=1, inplace=True)"
   ]
  },
  {
   "cell_type": "markdown",
   "id": "4220e30d",
   "metadata": {
    "papermill": {
     "duration": 0.011296,
     "end_time": "2023-01-14T23:02:52.337940",
     "exception": false,
     "start_time": "2023-01-14T23:02:52.326644",
     "status": "completed"
    },
    "tags": []
   },
   "source": [
    "# Eploratory Data Analysis (EDA)"
   ]
  },
  {
   "cell_type": "code",
   "execution_count": 13,
   "id": "22d888b0",
   "metadata": {
    "execution": {
     "iopub.execute_input": "2023-01-14T23:02:52.363712Z",
     "iopub.status.busy": "2023-01-14T23:02:52.362671Z",
     "iopub.status.idle": "2023-01-14T23:02:52.386218Z",
     "shell.execute_reply": "2023-01-14T23:02:52.385050Z"
    },
    "papermill": {
     "duration": 0.038543,
     "end_time": "2023-01-14T23:02:52.388490",
     "exception": false,
     "start_time": "2023-01-14T23:02:52.349947",
     "status": "completed"
    },
    "tags": []
   },
   "outputs": [
    {
     "data": {
      "text/html": [
       "<div>\n",
       "<style scoped>\n",
       "    .dataframe tbody tr th:only-of-type {\n",
       "        vertical-align: middle;\n",
       "    }\n",
       "\n",
       "    .dataframe tbody tr th {\n",
       "        vertical-align: top;\n",
       "    }\n",
       "\n",
       "    .dataframe thead th {\n",
       "        text-align: right;\n",
       "    }\n",
       "</style>\n",
       "<table border=\"1\" class=\"dataframe\">\n",
       "  <thead>\n",
       "    <tr style=\"text-align: right;\">\n",
       "      <th></th>\n",
       "      <th>price</th>\n",
       "      <th>geo_lat</th>\n",
       "      <th>geo_lon</th>\n",
       "      <th>region</th>\n",
       "      <th>building_type</th>\n",
       "      <th>level</th>\n",
       "      <th>levels</th>\n",
       "      <th>rooms</th>\n",
       "      <th>area</th>\n",
       "      <th>kitchen_area</th>\n",
       "      <th>object_type</th>\n",
       "      <th>level_ratio</th>\n",
       "      <th>room_area</th>\n",
       "      <th>year</th>\n",
       "      <th>month</th>\n",
       "    </tr>\n",
       "  </thead>\n",
       "  <tbody>\n",
       "    <tr>\n",
       "      <th>0</th>\n",
       "      <td>6050000</td>\n",
       "      <td>59.805808</td>\n",
       "      <td>30.376141</td>\n",
       "      <td>2661</td>\n",
       "      <td>1</td>\n",
       "      <td>8</td>\n",
       "      <td>10</td>\n",
       "      <td>3</td>\n",
       "      <td>82.6</td>\n",
       "      <td>10.8</td>\n",
       "      <td>1</td>\n",
       "      <td>0.800000</td>\n",
       "      <td>27.533333</td>\n",
       "      <td>2018</td>\n",
       "      <td>2</td>\n",
       "    </tr>\n",
       "    <tr>\n",
       "      <th>1</th>\n",
       "      <td>8650000</td>\n",
       "      <td>55.683807</td>\n",
       "      <td>37.297405</td>\n",
       "      <td>81</td>\n",
       "      <td>3</td>\n",
       "      <td>5</td>\n",
       "      <td>24</td>\n",
       "      <td>2</td>\n",
       "      <td>69.1</td>\n",
       "      <td>12.0</td>\n",
       "      <td>1</td>\n",
       "      <td>0.208333</td>\n",
       "      <td>34.550000</td>\n",
       "      <td>2018</td>\n",
       "      <td>2</td>\n",
       "    </tr>\n",
       "    <tr>\n",
       "      <th>2</th>\n",
       "      <td>4000000</td>\n",
       "      <td>56.295250</td>\n",
       "      <td>44.061637</td>\n",
       "      <td>2871</td>\n",
       "      <td>1</td>\n",
       "      <td>5</td>\n",
       "      <td>9</td>\n",
       "      <td>3</td>\n",
       "      <td>66.0</td>\n",
       "      <td>10.0</td>\n",
       "      <td>1</td>\n",
       "      <td>0.555556</td>\n",
       "      <td>22.000000</td>\n",
       "      <td>2018</td>\n",
       "      <td>2</td>\n",
       "    </tr>\n",
       "    <tr>\n",
       "      <th>3</th>\n",
       "      <td>1850000</td>\n",
       "      <td>44.996132</td>\n",
       "      <td>39.074783</td>\n",
       "      <td>2843</td>\n",
       "      <td>4</td>\n",
       "      <td>12</td>\n",
       "      <td>16</td>\n",
       "      <td>2</td>\n",
       "      <td>38.0</td>\n",
       "      <td>5.0</td>\n",
       "      <td>11</td>\n",
       "      <td>0.750000</td>\n",
       "      <td>19.000000</td>\n",
       "      <td>2018</td>\n",
       "      <td>3</td>\n",
       "    </tr>\n",
       "    <tr>\n",
       "      <th>4</th>\n",
       "      <td>5450000</td>\n",
       "      <td>55.918767</td>\n",
       "      <td>37.984642</td>\n",
       "      <td>81</td>\n",
       "      <td>3</td>\n",
       "      <td>13</td>\n",
       "      <td>14</td>\n",
       "      <td>2</td>\n",
       "      <td>60.0</td>\n",
       "      <td>10.0</td>\n",
       "      <td>1</td>\n",
       "      <td>0.928571</td>\n",
       "      <td>30.000000</td>\n",
       "      <td>2018</td>\n",
       "      <td>3</td>\n",
       "    </tr>\n",
       "    <tr>\n",
       "      <th>...</th>\n",
       "      <td>...</td>\n",
       "      <td>...</td>\n",
       "      <td>...</td>\n",
       "      <td>...</td>\n",
       "      <td>...</td>\n",
       "      <td>...</td>\n",
       "      <td>...</td>\n",
       "      <td>...</td>\n",
       "      <td>...</td>\n",
       "      <td>...</td>\n",
       "      <td>...</td>\n",
       "      <td>...</td>\n",
       "      <td>...</td>\n",
       "      <td>...</td>\n",
       "      <td>...</td>\n",
       "    </tr>\n",
       "    <tr>\n",
       "      <th>5477001</th>\n",
       "      <td>19739760</td>\n",
       "      <td>55.804736</td>\n",
       "      <td>37.750898</td>\n",
       "      <td>3</td>\n",
       "      <td>1</td>\n",
       "      <td>8</td>\n",
       "      <td>17</td>\n",
       "      <td>4</td>\n",
       "      <td>93.2</td>\n",
       "      <td>13.8</td>\n",
       "      <td>11</td>\n",
       "      <td>0.470588</td>\n",
       "      <td>23.300000</td>\n",
       "      <td>2021</td>\n",
       "      <td>5</td>\n",
       "    </tr>\n",
       "    <tr>\n",
       "      <th>5477002</th>\n",
       "      <td>12503160</td>\n",
       "      <td>55.841415</td>\n",
       "      <td>37.489624</td>\n",
       "      <td>3</td>\n",
       "      <td>2</td>\n",
       "      <td>17</td>\n",
       "      <td>32</td>\n",
       "      <td>2</td>\n",
       "      <td>45.9</td>\n",
       "      <td>6.6</td>\n",
       "      <td>11</td>\n",
       "      <td>0.531250</td>\n",
       "      <td>22.950000</td>\n",
       "      <td>2021</td>\n",
       "      <td>5</td>\n",
       "    </tr>\n",
       "    <tr>\n",
       "      <th>5477003</th>\n",
       "      <td>8800000</td>\n",
       "      <td>56.283909</td>\n",
       "      <td>44.075408</td>\n",
       "      <td>2871</td>\n",
       "      <td>2</td>\n",
       "      <td>4</td>\n",
       "      <td>17</td>\n",
       "      <td>3</td>\n",
       "      <td>86.5</td>\n",
       "      <td>11.8</td>\n",
       "      <td>1</td>\n",
       "      <td>0.235294</td>\n",
       "      <td>28.833333</td>\n",
       "      <td>2021</td>\n",
       "      <td>5</td>\n",
       "    </tr>\n",
       "    <tr>\n",
       "      <th>5477004</th>\n",
       "      <td>11831910</td>\n",
       "      <td>55.804736</td>\n",
       "      <td>37.750898</td>\n",
       "      <td>3</td>\n",
       "      <td>1</td>\n",
       "      <td>8</td>\n",
       "      <td>33</td>\n",
       "      <td>2</td>\n",
       "      <td>52.1</td>\n",
       "      <td>18.9</td>\n",
       "      <td>11</td>\n",
       "      <td>0.242424</td>\n",
       "      <td>26.050000</td>\n",
       "      <td>2021</td>\n",
       "      <td>5</td>\n",
       "    </tr>\n",
       "    <tr>\n",
       "      <th>5477005</th>\n",
       "      <td>13316200</td>\n",
       "      <td>55.860240</td>\n",
       "      <td>37.540356</td>\n",
       "      <td>3</td>\n",
       "      <td>2</td>\n",
       "      <td>10</td>\n",
       "      <td>23</td>\n",
       "      <td>2</td>\n",
       "      <td>55.6</td>\n",
       "      <td>20.8</td>\n",
       "      <td>11</td>\n",
       "      <td>0.434783</td>\n",
       "      <td>27.800000</td>\n",
       "      <td>2021</td>\n",
       "      <td>5</td>\n",
       "    </tr>\n",
       "  </tbody>\n",
       "</table>\n",
       "<p>5044059 rows × 15 columns</p>\n",
       "</div>"
      ],
      "text/plain": [
       "            price    geo_lat    geo_lon  region  building_type  level  levels  \\\n",
       "0         6050000  59.805808  30.376141    2661              1      8      10   \n",
       "1         8650000  55.683807  37.297405      81              3      5      24   \n",
       "2         4000000  56.295250  44.061637    2871              1      5       9   \n",
       "3         1850000  44.996132  39.074783    2843              4     12      16   \n",
       "4         5450000  55.918767  37.984642      81              3     13      14   \n",
       "...           ...        ...        ...     ...            ...    ...     ...   \n",
       "5477001  19739760  55.804736  37.750898       3              1      8      17   \n",
       "5477002  12503160  55.841415  37.489624       3              2     17      32   \n",
       "5477003   8800000  56.283909  44.075408    2871              2      4      17   \n",
       "5477004  11831910  55.804736  37.750898       3              1      8      33   \n",
       "5477005  13316200  55.860240  37.540356       3              2     10      23   \n",
       "\n",
       "         rooms  area  kitchen_area  object_type  level_ratio  room_area  year  \\\n",
       "0            3  82.6          10.8            1     0.800000  27.533333  2018   \n",
       "1            2  69.1          12.0            1     0.208333  34.550000  2018   \n",
       "2            3  66.0          10.0            1     0.555556  22.000000  2018   \n",
       "3            2  38.0           5.0           11     0.750000  19.000000  2018   \n",
       "4            2  60.0          10.0            1     0.928571  30.000000  2018   \n",
       "...        ...   ...           ...          ...          ...        ...   ...   \n",
       "5477001      4  93.2          13.8           11     0.470588  23.300000  2021   \n",
       "5477002      2  45.9           6.6           11     0.531250  22.950000  2021   \n",
       "5477003      3  86.5          11.8            1     0.235294  28.833333  2021   \n",
       "5477004      2  52.1          18.9           11     0.242424  26.050000  2021   \n",
       "5477005      2  55.6          20.8           11     0.434783  27.800000  2021   \n",
       "\n",
       "         month  \n",
       "0            2  \n",
       "1            2  \n",
       "2            2  \n",
       "3            3  \n",
       "4            3  \n",
       "...        ...  \n",
       "5477001      5  \n",
       "5477002      5  \n",
       "5477003      5  \n",
       "5477004      5  \n",
       "5477005      5  \n",
       "\n",
       "[5044059 rows x 15 columns]"
      ]
     },
     "execution_count": 13,
     "metadata": {},
     "output_type": "execute_result"
    }
   ],
   "source": [
    "df"
   ]
  },
  {
   "cell_type": "markdown",
   "id": "7c639d3a",
   "metadata": {
    "papermill": {
     "duration": 0.011696,
     "end_time": "2023-01-14T23:02:52.412304",
     "exception": false,
     "start_time": "2023-01-14T23:02:52.400608",
     "status": "completed"
    },
    "tags": []
   },
   "source": [
    "#### Despite there are a few highly correlated features, there are no multicollinearity:"
   ]
  },
  {
   "cell_type": "code",
   "execution_count": 14,
   "id": "5838fc02",
   "metadata": {
    "execution": {
     "iopub.execute_input": "2023-01-14T23:02:52.438541Z",
     "iopub.status.busy": "2023-01-14T23:02:52.438086Z",
     "iopub.status.idle": "2023-01-14T23:02:57.618814Z",
     "shell.execute_reply": "2023-01-14T23:02:57.617583Z"
    },
    "papermill": {
     "duration": 5.199092,
     "end_time": "2023-01-14T23:02:57.623476",
     "exception": false,
     "start_time": "2023-01-14T23:02:52.424384",
     "status": "completed"
    },
    "tags": []
   },
   "outputs": [
    {
     "data": {
      "image/png": "[encoded data removed]",
      "text/plain": [
       "<Figure size 1080x720 with 2 Axes>"
      ]
     },
     "metadata": {},
     "output_type": "display_data"
    }
   ],
   "source": [
    "fig, ax = plt.subplots(figsize=(15, 10))\n",
    "sns.heatmap(df.corr(), cmap='mako', linewidths=0.1, annot=True)\n",
    "ax.set_title('Correlation Matrix', fontsize=18);"
   ]
  },
  {
   "cell_type": "markdown",
   "id": "20ea3947",
   "metadata": {
    "papermill": {
     "duration": 0.015124,
     "end_time": "2023-01-14T23:02:57.654347",
     "exception": false,
     "start_time": "2023-01-14T23:02:57.639223",
     "status": "completed"
    },
    "tags": []
   },
   "source": [
    "#### It's seen that the overwhelming majority is between 1,000,000 and 4,000,000 rubles; median is about 3,000,000 rubles:"
   ]
  },
  {
   "cell_type": "code",
   "execution_count": 15,
   "id": "28a92a71",
   "metadata": {
    "execution": {
     "iopub.execute_input": "2023-01-14T23:02:57.686781Z",
     "iopub.status.busy": "2023-01-14T23:02:57.686349Z",
     "iopub.status.idle": "2023-01-14T23:03:18.115954Z",
     "shell.execute_reply": "2023-01-14T23:03:18.114752Z"
    },
    "papermill": {
     "duration": 20.449047,
     "end_time": "2023-01-14T23:03:18.118607",
     "exception": false,
     "start_time": "2023-01-14T23:02:57.669560",
     "status": "completed"
    },
    "tags": []
   },
   "outputs": [
    {
     "data": {
      "image/png": "[encoded data removed]",
      "text/plain": [
       "<Figure size 720x360 with 1 Axes>"
      ]
     },
     "metadata": {},
     "output_type": "display_data"
    }
   ],
   "source": [
    "fig, ax = plt.subplots(figsize=(10, 5))\n",
    "sns.distplot(df['price'])\n",
    "plt.axvline(np.median(df['price']), label='Median price', color='red')\n",
    "plt.legend()\n",
    "ax.set_title('Price distribution', fontsize=18);"
   ]
  },
  {
   "cell_type": "markdown",
   "id": "bdd20444",
   "metadata": {
    "papermill": {
     "duration": 0.015295,
     "end_time": "2023-01-14T23:03:18.149826",
     "exception": false,
     "start_time": "2023-01-14T23:03:18.134531",
     "status": "completed"
    },
    "tags": []
   },
   "source": [
    "#### Distribution of other features:"
   ]
  },
  {
   "cell_type": "code",
   "execution_count": 16,
   "id": "a739c9ed",
   "metadata": {
    "execution": {
     "iopub.execute_input": "2023-01-14T23:03:18.183140Z",
     "iopub.status.busy": "2023-01-14T23:03:18.182705Z",
     "iopub.status.idle": "2023-01-14T23:03:58.649681Z",
     "shell.execute_reply": "2023-01-14T23:03:58.648051Z"
    },
    "papermill": {
     "duration": 40.503031,
     "end_time": "2023-01-14T23:03:58.668391",
     "exception": false,
     "start_time": "2023-01-14T23:03:18.165360",
     "status": "completed"
    },
    "tags": []
   },
   "outputs": [
    {
     "data": {
      "image/png": "[encoded data removed]",
      "text/plain": [
       "<Figure size 1440x360 with 3 Axes>"
      ]
     },
     "metadata": {},
     "output_type": "display_data"
    }
   ],
   "source": [
    "fig, ax = plt.subplots(1, 3, figsize=(20, 5))\n",
    "sns.violinplot(y=df['area'], ax=ax[0])\n",
    "sns.violinplot(y=df['room_area'], ax=ax[1])\n",
    "sns.distplot(df['level_ratio'], ax=ax[2]);"
   ]
  },
  {
   "cell_type": "code",
   "execution_count": 17,
   "id": "a4a27570",
   "metadata": {
    "execution": {
     "iopub.execute_input": "2023-01-14T23:03:58.703775Z",
     "iopub.status.busy": "2023-01-14T23:03:58.703313Z",
     "iopub.status.idle": "2023-01-14T23:04:00.623830Z",
     "shell.execute_reply": "2023-01-14T23:04:00.622509Z"
    },
    "papermill": {
     "duration": 1.941162,
     "end_time": "2023-01-14T23:04:00.626356",
     "exception": false,
     "start_time": "2023-01-14T23:03:58.685194",
     "status": "completed"
    },
    "tags": []
   },
   "outputs": [
    {
     "data": {
      "image/png": "[encoded data removed]",
      "text/plain": [
       "<Figure size 1440x360 with 3 Axes>"
      ]
     },
     "metadata": {},
     "output_type": "display_data"
    }
   ],
   "source": [
    "fig, ax = plt.subplots(1, 3, figsize=(20, 5))\n",
    "sns.countplot(x=df['building_type'], ax=ax[0])\n",
    "sns.countplot(x=df['object_type'], ax=ax[1])\n",
    "sns.countplot(x=df['rooms'], ax=ax[2]);"
   ]
  },
  {
   "cell_type": "markdown",
   "id": "7fded8d8",
   "metadata": {
    "papermill": {
     "duration": 0.017126,
     "end_time": "2023-01-14T23:04:00.661114",
     "exception": false,
     "start_time": "2023-01-14T23:04:00.643988",
     "status": "completed"
    },
    "tags": []
   },
   "source": [
    "# Predicting prices (regression)"
   ]
  },
  {
   "cell_type": "markdown",
   "id": "265c4ca9",
   "metadata": {
    "papermill": {
     "duration": 0.017139,
     "end_time": "2023-01-14T23:04:00.695694",
     "exception": false,
     "start_time": "2023-01-14T23:04:00.678555",
     "status": "completed"
    },
    "tags": []
   },
   "source": [
    "#### Splitting the dataset into training and test in proportion 80/20. I dropped `region` feature, because prices differ too much in different regions:"
   ]
  },
  {
   "cell_type": "code",
   "execution_count": 18,
   "id": "47cbacd2",
   "metadata": {
    "execution": {
     "iopub.execute_input": "2023-01-14T23:04:00.732589Z",
     "iopub.status.busy": "2023-01-14T23:04:00.732073Z",
     "iopub.status.idle": "2023-01-14T23:04:02.704655Z",
     "shell.execute_reply": "2023-01-14T23:04:02.703448Z"
    },
    "papermill": {
     "duration": 1.994521,
     "end_time": "2023-01-14T23:04:02.707649",
     "exception": false,
     "start_time": "2023-01-14T23:04:00.713128",
     "status": "completed"
    },
    "tags": []
   },
   "outputs": [],
   "source": [
    "x, y = df.drop(['price', 'region'], axis=1), df['price']\n",
    "x_train, x_test, y_train, y_test = train_test_split(x, y, test_size=0.2, shuffle=True)"
   ]
  },
  {
   "cell_type": "markdown",
   "id": "41eaa655",
   "metadata": {
    "papermill": {
     "duration": 0.017164,
     "end_time": "2023-01-14T23:04:02.742797",
     "exception": false,
     "start_time": "2023-01-14T23:04:02.725633",
     "status": "completed"
    },
    "tags": []
   },
   "source": [
    "#### Training Gradient Boosting Regressor:"
   ]
  },
  {
   "cell_type": "code",
   "execution_count": 19,
   "id": "4a403d32",
   "metadata": {
    "execution": {
     "iopub.execute_input": "2023-01-14T23:04:02.780262Z",
     "iopub.status.busy": "2023-01-14T23:04:02.779810Z",
     "iopub.status.idle": "2023-01-14T23:10:58.585488Z",
     "shell.execute_reply": "2023-01-14T23:10:58.584286Z"
    },
    "papermill": {
     "duration": 415.8419,
     "end_time": "2023-01-14T23:10:58.602826",
     "exception": false,
     "start_time": "2023-01-14T23:04:02.760926",
     "status": "completed"
    },
    "tags": []
   },
   "outputs": [
    {
     "data": {
      "text/plain": [
       "XGBRegressor(base_score=0.5, booster='gbtree', callbacks=None,\n",
       "             colsample_bylevel=1, colsample_bynode=1, colsample_bytree=1,\n",
       "             early_stopping_rounds=None, enable_categorical=False,\n",
       "             eval_metric=None, gamma=0, gpu_id=-1, grow_policy='depthwise',\n",
       "             importance_type=None, interaction_constraints='',\n",
       "             learning_rate=0.300000012, max_bin=256, max_cat_to_onehot=4,\n",
       "             max_delta_step=0, max_depth=6, max_leaves=0, min_child_weight=1,\n",
       "             missing=nan, monotone_constraints='()', n_estimators=100,\n",
       "             n_jobs=-1, num_parallel_tree=1, predictor='auto', random_state=0,\n",
       "             reg_alpha=0, reg_lambda=1, ...)"
      ]
     },
     "execution_count": 19,
     "metadata": {},
     "output_type": "execute_result"
    }
   ],
   "source": [
    "model = XGBRegressor(n_jobs=-1)\n",
    "model.fit(x_train, y_train)"
   ]
  },
  {
   "cell_type": "code",
   "execution_count": 20,
   "id": "cae02bd2",
   "metadata": {
    "execution": {
     "iopub.execute_input": "2023-01-14T23:10:58.638344Z",
     "iopub.status.busy": "2023-01-14T23:10:58.637939Z",
     "iopub.status.idle": "2023-01-14T23:10:59.678287Z",
     "shell.execute_reply": "2023-01-14T23:10:59.676467Z"
    },
    "papermill": {
     "duration": 1.061908,
     "end_time": "2023-01-14T23:10:59.681503",
     "exception": false,
     "start_time": "2023-01-14T23:10:58.619595",
     "status": "completed"
    },
    "tags": []
   },
   "outputs": [
    {
     "name": "stdout",
     "output_type": "stream",
     "text": [
      "R2-score of the model: 0.8808788564439627\n"
     ]
    }
   ],
   "source": [
    "print(f'R2-score of the model: {r2_score(model.predict(x_test), y_test)}')"
   ]
  },
  {
   "cell_type": "markdown",
   "id": "723e79e5",
   "metadata": {
    "papermill": {
     "duration": 0.016851,
     "end_time": "2023-01-14T23:10:59.715903",
     "exception": false,
     "start_time": "2023-01-14T23:10:59.699052",
     "status": "completed"
    },
    "tags": []
   },
   "source": [
    "#### Which features are most important according to XGBR:"
   ]
  },
  {
   "cell_type": "code",
   "execution_count": 21,
   "id": "3375f83b",
   "metadata": {
    "execution": {
     "iopub.execute_input": "2023-01-14T23:10:59.753076Z",
     "iopub.status.busy": "2023-01-14T23:10:59.751863Z",
     "iopub.status.idle": "2023-01-14T23:11:00.075160Z",
     "shell.execute_reply": "2023-01-14T23:11:00.073893Z"
    },
    "papermill": {
     "duration": 0.344829,
     "end_time": "2023-01-14T23:11:00.077927",
     "exception": false,
     "start_time": "2023-01-14T23:10:59.733098",
     "status": "completed"
    },
    "tags": []
   },
   "outputs": [
    {
     "data": {
      "image/png": "[encoded data removed]",
      "text/plain": [
       "<Figure size 1080x576 with 1 Axes>"
      ]
     },
     "metadata": {},
     "output_type": "display_data"
    }
   ],
   "source": [
    "importance = pd.DataFrame({\n",
    "    'features': x_train.columns,\n",
    "    'importance': model.feature_importances_\n",
    "})\n",
    "importance = importance.sort_values('importance', ascending=False)\n",
    "\n",
    "fig, ax = plt.subplots(figsize=(15, 8))\n",
    "sns.barplot(y='features', x='importance', data=importance, color='#46b5fa');"
   ]
  },
  {
   "cell_type": "markdown",
   "id": "fcf33f0a",
   "metadata": {
    "papermill": {
     "duration": 0.018386,
     "end_time": "2023-01-14T23:11:00.114868",
     "exception": false,
     "start_time": "2023-01-14T23:11:00.096482",
     "status": "completed"
    },
    "tags": []
   },
   "source": [
    "# Comparing with samples not from dataset "
   ]
  },
  {
   "cell_type": "markdown",
   "id": "d37907e6",
   "metadata": {
    "papermill": {
     "duration": 0.017781,
     "end_time": "2023-01-14T23:11:00.150326",
     "exception": false,
     "start_time": "2023-01-14T23:11:00.132545",
     "status": "completed"
    },
    "tags": []
   },
   "source": [
    "#### Here I trained model on samples only from 81 region, which is actually Moscow, and from 2021. And test it on samples I manually collected from [web archive](https://web.archive.org/):"
   ]
  },
  {
   "cell_type": "code",
   "execution_count": 22,
   "id": "8d28f20b",
   "metadata": {
    "execution": {
     "iopub.execute_input": "2023-01-14T23:11:00.187736Z",
     "iopub.status.busy": "2023-01-14T23:11:00.187337Z",
     "iopub.status.idle": "2023-01-14T23:11:00.214496Z",
     "shell.execute_reply": "2023-01-14T23:11:00.213191Z"
    },
    "papermill": {
     "duration": 0.049102,
     "end_time": "2023-01-14T23:11:00.217254",
     "exception": false,
     "start_time": "2023-01-14T23:11:00.168152",
     "status": "completed"
    },
    "tags": []
   },
   "outputs": [],
   "source": [
    "df = df[(df['region'] == 81) & (df['year'] == 2021)]\n",
    "df.drop(['geo_lat', 'geo_lon', 'region', 'year', 'month'], axis=1, inplace=True)"
   ]
  },
  {
   "cell_type": "code",
   "execution_count": 23,
   "id": "c26c89f7",
   "metadata": {
    "execution": {
     "iopub.execute_input": "2023-01-14T23:11:00.256402Z",
     "iopub.status.busy": "2023-01-14T23:11:00.255140Z",
     "iopub.status.idle": "2023-01-14T23:11:00.275416Z",
     "shell.execute_reply": "2023-01-14T23:11:00.273975Z"
    },
    "papermill": {
     "duration": 0.042524,
     "end_time": "2023-01-14T23:11:00.278289",
     "exception": false,
     "start_time": "2023-01-14T23:11:00.235765",
     "status": "completed"
    },
    "tags": []
   },
   "outputs": [
    {
     "data": {
      "text/html": [
       "<div>\n",
       "<style scoped>\n",
       "    .dataframe tbody tr th:only-of-type {\n",
       "        vertical-align: middle;\n",
       "    }\n",
       "\n",
       "    .dataframe tbody tr th {\n",
       "        vertical-align: top;\n",
       "    }\n",
       "\n",
       "    .dataframe thead th {\n",
       "        text-align: right;\n",
       "    }\n",
       "</style>\n",
       "<table border=\"1\" class=\"dataframe\">\n",
       "  <thead>\n",
       "    <tr style=\"text-align: right;\">\n",
       "      <th></th>\n",
       "      <th>price</th>\n",
       "      <th>building_type</th>\n",
       "      <th>level</th>\n",
       "      <th>levels</th>\n",
       "      <th>rooms</th>\n",
       "      <th>area</th>\n",
       "      <th>kitchen_area</th>\n",
       "      <th>object_type</th>\n",
       "      <th>level_ratio</th>\n",
       "      <th>room_area</th>\n",
       "    </tr>\n",
       "  </thead>\n",
       "  <tbody>\n",
       "    <tr>\n",
       "      <th>4910408</th>\n",
       "      <td>3400000</td>\n",
       "      <td>2</td>\n",
       "      <td>1</td>\n",
       "      <td>12</td>\n",
       "      <td>1</td>\n",
       "      <td>25.6</td>\n",
       "      <td>5.0</td>\n",
       "      <td>1</td>\n",
       "      <td>0.083333</td>\n",
       "      <td>25.600000</td>\n",
       "    </tr>\n",
       "    <tr>\n",
       "      <th>4910409</th>\n",
       "      <td>6400000</td>\n",
       "      <td>2</td>\n",
       "      <td>25</td>\n",
       "      <td>25</td>\n",
       "      <td>2</td>\n",
       "      <td>63.0</td>\n",
       "      <td>10.3</td>\n",
       "      <td>1</td>\n",
       "      <td>1.000000</td>\n",
       "      <td>31.500000</td>\n",
       "    </tr>\n",
       "    <tr>\n",
       "      <th>4910410</th>\n",
       "      <td>5300000</td>\n",
       "      <td>1</td>\n",
       "      <td>1</td>\n",
       "      <td>12</td>\n",
       "      <td>1</td>\n",
       "      <td>40.1</td>\n",
       "      <td>8.5</td>\n",
       "      <td>1</td>\n",
       "      <td>0.083333</td>\n",
       "      <td>40.100000</td>\n",
       "    </tr>\n",
       "    <tr>\n",
       "      <th>4910499</th>\n",
       "      <td>4700000</td>\n",
       "      <td>2</td>\n",
       "      <td>1</td>\n",
       "      <td>4</td>\n",
       "      <td>1</td>\n",
       "      <td>27.8</td>\n",
       "      <td>6.6</td>\n",
       "      <td>1</td>\n",
       "      <td>0.250000</td>\n",
       "      <td>27.800000</td>\n",
       "    </tr>\n",
       "    <tr>\n",
       "      <th>4910528</th>\n",
       "      <td>1470000</td>\n",
       "      <td>2</td>\n",
       "      <td>8</td>\n",
       "      <td>9</td>\n",
       "      <td>1</td>\n",
       "      <td>30.0</td>\n",
       "      <td>8.0</td>\n",
       "      <td>11</td>\n",
       "      <td>0.888889</td>\n",
       "      <td>30.000000</td>\n",
       "    </tr>\n",
       "    <tr>\n",
       "      <th>...</th>\n",
       "      <td>...</td>\n",
       "      <td>...</td>\n",
       "      <td>...</td>\n",
       "      <td>...</td>\n",
       "      <td>...</td>\n",
       "      <td>...</td>\n",
       "      <td>...</td>\n",
       "      <td>...</td>\n",
       "      <td>...</td>\n",
       "      <td>...</td>\n",
       "    </tr>\n",
       "    <tr>\n",
       "      <th>5476942</th>\n",
       "      <td>13100000</td>\n",
       "      <td>2</td>\n",
       "      <td>10</td>\n",
       "      <td>16</td>\n",
       "      <td>3</td>\n",
       "      <td>83.0</td>\n",
       "      <td>22.6</td>\n",
       "      <td>1</td>\n",
       "      <td>0.625000</td>\n",
       "      <td>27.666667</td>\n",
       "    </tr>\n",
       "    <tr>\n",
       "      <th>5476953</th>\n",
       "      <td>10650000</td>\n",
       "      <td>2</td>\n",
       "      <td>3</td>\n",
       "      <td>17</td>\n",
       "      <td>2</td>\n",
       "      <td>80.0</td>\n",
       "      <td>13.0</td>\n",
       "      <td>1</td>\n",
       "      <td>0.176471</td>\n",
       "      <td>40.000000</td>\n",
       "    </tr>\n",
       "    <tr>\n",
       "      <th>5476962</th>\n",
       "      <td>4339000</td>\n",
       "      <td>2</td>\n",
       "      <td>8</td>\n",
       "      <td>17</td>\n",
       "      <td>1</td>\n",
       "      <td>25.0</td>\n",
       "      <td>8.0</td>\n",
       "      <td>1</td>\n",
       "      <td>0.470588</td>\n",
       "      <td>25.000000</td>\n",
       "    </tr>\n",
       "    <tr>\n",
       "      <th>5476977</th>\n",
       "      <td>7293900</td>\n",
       "      <td>2</td>\n",
       "      <td>12</td>\n",
       "      <td>17</td>\n",
       "      <td>3</td>\n",
       "      <td>59.0</td>\n",
       "      <td>5.0</td>\n",
       "      <td>1</td>\n",
       "      <td>0.705882</td>\n",
       "      <td>19.666667</td>\n",
       "    </tr>\n",
       "    <tr>\n",
       "      <th>5476996</th>\n",
       "      <td>6400000</td>\n",
       "      <td>3</td>\n",
       "      <td>4</td>\n",
       "      <td>17</td>\n",
       "      <td>3</td>\n",
       "      <td>82.0</td>\n",
       "      <td>10.6</td>\n",
       "      <td>1</td>\n",
       "      <td>0.235294</td>\n",
       "      <td>27.333333</td>\n",
       "    </tr>\n",
       "  </tbody>\n",
       "</table>\n",
       "<p>47322 rows × 10 columns</p>\n",
       "</div>"
      ],
      "text/plain": [
       "            price  building_type  level  levels  rooms  area  kitchen_area  \\\n",
       "4910408   3400000              2      1      12      1  25.6           5.0   \n",
       "4910409   6400000              2     25      25      2  63.0          10.3   \n",
       "4910410   5300000              1      1      12      1  40.1           8.5   \n",
       "4910499   4700000              2      1       4      1  27.8           6.6   \n",
       "4910528   1470000              2      8       9      1  30.0           8.0   \n",
       "...           ...            ...    ...     ...    ...   ...           ...   \n",
       "5476942  13100000              2     10      16      3  83.0          22.6   \n",
       "5476953  10650000              2      3      17      2  80.0          13.0   \n",
       "5476962   4339000              2      8      17      1  25.0           8.0   \n",
       "5476977   7293900              2     12      17      3  59.0           5.0   \n",
       "5476996   6400000              3      4      17      3  82.0          10.6   \n",
       "\n",
       "         object_type  level_ratio  room_area  \n",
       "4910408            1     0.083333  25.600000  \n",
       "4910409            1     1.000000  31.500000  \n",
       "4910410            1     0.083333  40.100000  \n",
       "4910499            1     0.250000  27.800000  \n",
       "4910528           11     0.888889  30.000000  \n",
       "...              ...          ...        ...  \n",
       "5476942            1     0.625000  27.666667  \n",
       "5476953            1     0.176471  40.000000  \n",
       "5476962            1     0.470588  25.000000  \n",
       "5476977            1     0.705882  19.666667  \n",
       "5476996            1     0.235294  27.333333  \n",
       "\n",
       "[47322 rows x 10 columns]"
      ]
     },
     "execution_count": 23,
     "metadata": {},
     "output_type": "execute_result"
    }
   ],
   "source": [
    "df"
   ]
  },
  {
   "cell_type": "markdown",
   "id": "a4463e44",
   "metadata": {
    "papermill": {
     "duration": 0.017733,
     "end_time": "2023-01-14T23:11:00.314348",
     "exception": false,
     "start_time": "2023-01-14T23:11:00.296615",
     "status": "completed"
    },
    "tags": []
   },
   "source": [
    "#### I used `GridSearchCV` to perform parameters tuning and find best ones for this case:"
   ]
  },
  {
   "cell_type": "code",
   "execution_count": 24,
   "id": "d118ebb8",
   "metadata": {
    "execution": {
     "iopub.execute_input": "2023-01-14T23:11:00.353032Z",
     "iopub.status.busy": "2023-01-14T23:11:00.352213Z",
     "iopub.status.idle": "2023-01-14T23:11:00.362339Z",
     "shell.execute_reply": "2023-01-14T23:11:00.361228Z"
    },
    "papermill": {
     "duration": 0.032765,
     "end_time": "2023-01-14T23:11:00.365109",
     "exception": false,
     "start_time": "2023-01-14T23:11:00.332344",
     "status": "completed"
    },
    "tags": []
   },
   "outputs": [],
   "source": [
    "x, y = df.drop('price', axis=1), df['price']"
   ]
  },
  {
   "cell_type": "code",
   "execution_count": 25,
   "id": "95a04031",
   "metadata": {
    "execution": {
     "iopub.execute_input": "2023-01-14T23:11:00.402901Z",
     "iopub.status.busy": "2023-01-14T23:11:00.402508Z",
     "iopub.status.idle": "2023-01-14T23:27:32.810798Z",
     "shell.execute_reply": "2023-01-14T23:27:32.809461Z"
    },
    "papermill": {
     "duration": 992.444188,
     "end_time": "2023-01-14T23:27:32.827307",
     "exception": false,
     "start_time": "2023-01-14T23:11:00.383119",
     "status": "completed"
    },
    "tags": []
   },
   "outputs": [
    {
     "data": {
      "text/plain": [
       "GridSearchCV(cv=StratifiedKFold(n_splits=3, random_state=17, shuffle=True),\n",
       "             estimator=XGBRegressor(base_score=None, booster=None,\n",
       "                                    callbacks=None, colsample_bylevel=None,\n",
       "                                    colsample_bynode=None,\n",
       "                                    colsample_bytree=None,\n",
       "                                    early_stopping_rounds=None,\n",
       "                                    enable_categorical=False, eval_metric=None,\n",
       "                                    gamma=None, gpu_id=None, grow_policy=None,\n",
       "                                    importance_type=None,\n",
       "                                    interaction_c...\n",
       "                                    min_child_weight=None, missing=nan,\n",
       "                                    monotone_constraints=None, n_estimators=100,\n",
       "                                    n_jobs=-1, num_parallel_tree=None,\n",
       "                                    predictor=None, random_state=None,\n",
       "                                    reg_alpha=None, reg_lambda=None, ...),\n",
       "             n_jobs=-1,\n",
       "             param_grid={'colsample_bytree': [0.3, 0.4],\n",
       "                         'gamma': [0.0, 0.1, 0.2],\n",
       "                         'learning_rate': (0.05, 0.1, 0.2, 0.3, 0.4),\n",
       "                         'max_depth': [3, 4, 5, 6, 8],\n",
       "                         'min_child_weight': [1, 3, 5, 7]},\n",
       "             scoring='r2')"
      ]
     },
     "execution_count": 25,
     "metadata": {},
     "output_type": "execute_result"
    }
   ],
   "source": [
    "params={\n",
    "    \"learning_rate\": (0.05, 0.1, 0.2, 0.3, 0.4),\n",
    "    \"max_depth\": [ 3, 4, 5, 6, 8],\n",
    "    \"min_child_weight\": [ 1, 3, 5, 7],\n",
    "    \"gamma\":[ 0.0, 0.1, 0.2],\n",
    "    \"colsample_bytree\":[ 0.3, 0.4]\n",
    "}\n",
    "\n",
    "gr = GridSearchCV(estimator=XGBRegressor(n_jobs=-1),\n",
    "                  param_grid=params,\n",
    "                  cv=StratifiedKFold(n_splits=3, shuffle=True, random_state=17),\n",
    "                  scoring='r2',\n",
    "                  n_jobs=-1)\n",
    "\n",
    "gr.fit(x, y)"
   ]
  },
  {
   "cell_type": "code",
   "execution_count": 26,
   "id": "7bb8cbb9",
   "metadata": {
    "execution": {
     "iopub.execute_input": "2023-01-14T23:27:32.865810Z",
     "iopub.status.busy": "2023-01-14T23:27:32.865397Z",
     "iopub.status.idle": "2023-01-14T23:27:32.874940Z",
     "shell.execute_reply": "2023-01-14T23:27:32.873017Z"
    },
    "papermill": {
     "duration": 0.032784,
     "end_time": "2023-01-14T23:27:32.878271",
     "exception": false,
     "start_time": "2023-01-14T23:27:32.845487",
     "status": "completed"
    },
    "tags": []
   },
   "outputs": [
    {
     "name": "stdout",
     "output_type": "stream",
     "text": [
      "The best parameters:\n"
     ]
    },
    {
     "data": {
      "text/plain": [
       "{'colsample_bytree': 0.4,\n",
       " 'gamma': 0.0,\n",
       " 'learning_rate': 0.2,\n",
       " 'max_depth': 8,\n",
       " 'min_child_weight': 1}"
      ]
     },
     "execution_count": 26,
     "metadata": {},
     "output_type": "execute_result"
    }
   ],
   "source": [
    "print('The best parameters:')\n",
    "gr.best_params_"
   ]
  },
  {
   "cell_type": "markdown",
   "id": "22ef1576",
   "metadata": {
    "papermill": {
     "duration": 0.01807,
     "end_time": "2023-01-14T23:27:32.915201",
     "exception": false,
     "start_time": "2023-01-14T23:27:32.897131",
     "status": "completed"
    },
    "tags": []
   },
   "source": [
    "#### Predict prices of manually collected test dataset:"
   ]
  },
  {
   "cell_type": "code",
   "execution_count": 27,
   "id": "4aec9556",
   "metadata": {
    "execution": {
     "iopub.execute_input": "2023-01-14T23:27:32.954047Z",
     "iopub.status.busy": "2023-01-14T23:27:32.953610Z",
     "iopub.status.idle": "2023-01-14T23:27:32.970627Z",
     "shell.execute_reply": "2023-01-14T23:27:32.969637Z"
    },
    "papermill": {
     "duration": 0.040042,
     "end_time": "2023-01-14T23:27:32.973622",
     "exception": false,
     "start_time": "2023-01-14T23:27:32.933580",
     "status": "completed"
    },
    "tags": []
   },
   "outputs": [],
   "source": [
    "df_test = pd.read_csv(\"/kaggle/input/test-data/test_data.csv\")"
   ]
  },
  {
   "cell_type": "code",
   "execution_count": 28,
   "id": "e03748a8",
   "metadata": {
    "execution": {
     "iopub.execute_input": "2023-01-14T23:27:33.012802Z",
     "iopub.status.busy": "2023-01-14T23:27:33.012393Z",
     "iopub.status.idle": "2023-01-14T23:27:33.036286Z",
     "shell.execute_reply": "2023-01-14T23:27:33.035088Z"
    },
    "papermill": {
     "duration": 0.045866,
     "end_time": "2023-01-14T23:27:33.038533",
     "exception": false,
     "start_time": "2023-01-14T23:27:32.992667",
     "status": "completed"
    },
    "tags": []
   },
   "outputs": [
    {
     "data": {
      "text/html": [
       "<div>\n",
       "<style scoped>\n",
       "    .dataframe tbody tr th:only-of-type {\n",
       "        vertical-align: middle;\n",
       "    }\n",
       "\n",
       "    .dataframe tbody tr th {\n",
       "        vertical-align: top;\n",
       "    }\n",
       "\n",
       "    .dataframe thead th {\n",
       "        text-align: right;\n",
       "    }\n",
       "</style>\n",
       "<table border=\"1\" class=\"dataframe\">\n",
       "  <thead>\n",
       "    <tr style=\"text-align: right;\">\n",
       "      <th></th>\n",
       "      <th>price</th>\n",
       "      <th>building_type</th>\n",
       "      <th>level</th>\n",
       "      <th>levels</th>\n",
       "      <th>rooms</th>\n",
       "      <th>area</th>\n",
       "      <th>kitchen_area</th>\n",
       "      <th>object_type</th>\n",
       "      <th>level_ratio</th>\n",
       "      <th>room_area</th>\n",
       "    </tr>\n",
       "  </thead>\n",
       "  <tbody>\n",
       "    <tr>\n",
       "      <th>0</th>\n",
       "      <td>9800000.0</td>\n",
       "      <td>2.0</td>\n",
       "      <td>22.0</td>\n",
       "      <td>30.0</td>\n",
       "      <td>2.0</td>\n",
       "      <td>60.0</td>\n",
       "      <td>12.3</td>\n",
       "      <td>11.0</td>\n",
       "      <td>0.733333</td>\n",
       "      <td>30.0</td>\n",
       "    </tr>\n",
       "    <tr>\n",
       "      <th>1</th>\n",
       "      <td>5000000.0</td>\n",
       "      <td>2.0</td>\n",
       "      <td>4.0</td>\n",
       "      <td>8.0</td>\n",
       "      <td>1.0</td>\n",
       "      <td>33.3</td>\n",
       "      <td>7.9</td>\n",
       "      <td>1.0</td>\n",
       "      <td>0.500000</td>\n",
       "      <td>33.3</td>\n",
       "    </tr>\n",
       "    <tr>\n",
       "      <th>2</th>\n",
       "      <td>5000000.0</td>\n",
       "      <td>3.0</td>\n",
       "      <td>3.0</td>\n",
       "      <td>10.0</td>\n",
       "      <td>1.0</td>\n",
       "      <td>35.0</td>\n",
       "      <td>9.0</td>\n",
       "      <td>1.0</td>\n",
       "      <td>0.300000</td>\n",
       "      <td>35.0</td>\n",
       "    </tr>\n",
       "    <tr>\n",
       "      <th>3</th>\n",
       "      <td>3850000.0</td>\n",
       "      <td>2.0</td>\n",
       "      <td>10.0</td>\n",
       "      <td>21.0</td>\n",
       "      <td>1.0</td>\n",
       "      <td>26.0</td>\n",
       "      <td>10.3</td>\n",
       "      <td>11.0</td>\n",
       "      <td>0.476190</td>\n",
       "      <td>26.0</td>\n",
       "    </tr>\n",
       "    <tr>\n",
       "      <th>4</th>\n",
       "      <td>6950000.0</td>\n",
       "      <td>2.0</td>\n",
       "      <td>7.0</td>\n",
       "      <td>15.0</td>\n",
       "      <td>2.0</td>\n",
       "      <td>42.2</td>\n",
       "      <td>5.0</td>\n",
       "      <td>11.0</td>\n",
       "      <td>0.466667</td>\n",
       "      <td>21.1</td>\n",
       "    </tr>\n",
       "    <tr>\n",
       "      <th>5</th>\n",
       "      <td>3700000.0</td>\n",
       "      <td>1.0</td>\n",
       "      <td>1.0</td>\n",
       "      <td>5.0</td>\n",
       "      <td>2.0</td>\n",
       "      <td>40.0</td>\n",
       "      <td>6.0</td>\n",
       "      <td>1.0</td>\n",
       "      <td>0.200000</td>\n",
       "      <td>20.0</td>\n",
       "    </tr>\n",
       "    <tr>\n",
       "      <th>6</th>\n",
       "      <td>3800000.0</td>\n",
       "      <td>1.0</td>\n",
       "      <td>4.0</td>\n",
       "      <td>4.0</td>\n",
       "      <td>2.0</td>\n",
       "      <td>48.0</td>\n",
       "      <td>10.0</td>\n",
       "      <td>1.0</td>\n",
       "      <td>1.000000</td>\n",
       "      <td>24.0</td>\n",
       "    </tr>\n",
       "    <tr>\n",
       "      <th>7</th>\n",
       "      <td>4900000.0</td>\n",
       "      <td>1.0</td>\n",
       "      <td>15.0</td>\n",
       "      <td>15.0</td>\n",
       "      <td>1.0</td>\n",
       "      <td>38.0</td>\n",
       "      <td>8.0</td>\n",
       "      <td>1.0</td>\n",
       "      <td>1.000000</td>\n",
       "      <td>38.0</td>\n",
       "    </tr>\n",
       "    <tr>\n",
       "      <th>8</th>\n",
       "      <td>6500000.0</td>\n",
       "      <td>1.0</td>\n",
       "      <td>15.0</td>\n",
       "      <td>25.0</td>\n",
       "      <td>1.0</td>\n",
       "      <td>37.0</td>\n",
       "      <td>12.0</td>\n",
       "      <td>11.0</td>\n",
       "      <td>0.600000</td>\n",
       "      <td>37.0</td>\n",
       "    </tr>\n",
       "    <tr>\n",
       "      <th>9</th>\n",
       "      <td>6900000.0</td>\n",
       "      <td>1.0</td>\n",
       "      <td>15.0</td>\n",
       "      <td>25.0</td>\n",
       "      <td>1.0</td>\n",
       "      <td>35.0</td>\n",
       "      <td>17.0</td>\n",
       "      <td>11.0</td>\n",
       "      <td>0.600000</td>\n",
       "      <td>35.0</td>\n",
       "    </tr>\n",
       "  </tbody>\n",
       "</table>\n",
       "</div>"
      ],
      "text/plain": [
       "       price  building_type  level  levels  rooms  area  kitchen_area  \\\n",
       "0  9800000.0            2.0   22.0    30.0    2.0  60.0          12.3   \n",
       "1  5000000.0            2.0    4.0     8.0    1.0  33.3           7.9   \n",
       "2  5000000.0            3.0    3.0    10.0    1.0  35.0           9.0   \n",
       "3  3850000.0            2.0   10.0    21.0    1.0  26.0          10.3   \n",
       "4  6950000.0            2.0    7.0    15.0    2.0  42.2           5.0   \n",
       "5  3700000.0            1.0    1.0     5.0    2.0  40.0           6.0   \n",
       "6  3800000.0            1.0    4.0     4.0    2.0  48.0          10.0   \n",
       "7  4900000.0            1.0   15.0    15.0    1.0  38.0           8.0   \n",
       "8  6500000.0            1.0   15.0    25.0    1.0  37.0          12.0   \n",
       "9  6900000.0            1.0   15.0    25.0    1.0  35.0          17.0   \n",
       "\n",
       "   object_type  level_ratio  room_area  \n",
       "0         11.0     0.733333       30.0  \n",
       "1          1.0     0.500000       33.3  \n",
       "2          1.0     0.300000       35.0  \n",
       "3         11.0     0.476190       26.0  \n",
       "4         11.0     0.466667       21.1  \n",
       "5          1.0     0.200000       20.0  \n",
       "6          1.0     1.000000       24.0  \n",
       "7          1.0     1.000000       38.0  \n",
       "8         11.0     0.600000       37.0  \n",
       "9         11.0     0.600000       35.0  "
      ]
     },
     "execution_count": 28,
     "metadata": {},
     "output_type": "execute_result"
    }
   ],
   "source": [
    "df_test"
   ]
  },
  {
   "cell_type": "code",
   "execution_count": 29,
   "id": "98aee15a",
   "metadata": {
    "execution": {
     "iopub.execute_input": "2023-01-14T23:27:33.078426Z",
     "iopub.status.busy": "2023-01-14T23:27:33.077574Z",
     "iopub.status.idle": "2023-01-14T23:27:33.093676Z",
     "shell.execute_reply": "2023-01-14T23:27:33.092698Z"
    },
    "papermill": {
     "duration": 0.039185,
     "end_time": "2023-01-14T23:27:33.096723",
     "exception": false,
     "start_time": "2023-01-14T23:27:33.057538",
     "status": "completed"
    },
    "tags": []
   },
   "outputs": [],
   "source": [
    "pred = gr.best_estimator_.predict(df_test.drop('price', axis=1))"
   ]
  },
  {
   "cell_type": "markdown",
   "id": "a9fa21a1",
   "metadata": {
    "papermill": {
     "duration": 0.018449,
     "end_time": "2023-01-14T23:27:33.136484",
     "exception": false,
     "start_time": "2023-01-14T23:27:33.118035",
     "status": "completed"
    },
    "tags": []
   },
   "source": [
    "#### Column `diff` shows the difference between real price and predicted. They are distributed quite equally, there are samples with about 800,000 ruble difference wich is quite a lot, but still ok. However one sample's difference is very big, the model estimates it more that 2,000,000 rubles higher, it has the greatest area compared to other and area is the most valuable feature. It's difficult to say if model is bad or just in real life the apartment had some problems which are not represented in dataset (e.g. its condition, ceiling height, balcony):"
   ]
  },
  {
   "cell_type": "code",
   "execution_count": 30,
   "id": "65738010",
   "metadata": {
    "execution": {
     "iopub.execute_input": "2023-01-14T23:27:33.177106Z",
     "iopub.status.busy": "2023-01-14T23:27:33.176596Z",
     "iopub.status.idle": "2023-01-14T23:27:33.192639Z",
     "shell.execute_reply": "2023-01-14T23:27:33.191727Z"
    },
    "papermill": {
     "duration": 0.039277,
     "end_time": "2023-01-14T23:27:33.195003",
     "exception": false,
     "start_time": "2023-01-14T23:27:33.155726",
     "status": "completed"
    },
    "tags": []
   },
   "outputs": [
    {
     "data": {
      "text/html": [
       "<div>\n",
       "<style scoped>\n",
       "    .dataframe tbody tr th:only-of-type {\n",
       "        vertical-align: middle;\n",
       "    }\n",
       "\n",
       "    .dataframe tbody tr th {\n",
       "        vertical-align: top;\n",
       "    }\n",
       "\n",
       "    .dataframe thead th {\n",
       "        text-align: right;\n",
       "    }\n",
       "</style>\n",
       "<table border=\"1\" class=\"dataframe\">\n",
       "  <thead>\n",
       "    <tr style=\"text-align: right;\">\n",
       "      <th></th>\n",
       "      <th>real_prices</th>\n",
       "      <th>predicted_prices</th>\n",
       "      <th>diff</th>\n",
       "    </tr>\n",
       "  </thead>\n",
       "  <tbody>\n",
       "    <tr>\n",
       "      <th>0</th>\n",
       "      <td>9800000.0</td>\n",
       "      <td>11931282.00</td>\n",
       "      <td>-2131282.00</td>\n",
       "    </tr>\n",
       "    <tr>\n",
       "      <th>1</th>\n",
       "      <td>5000000.0</td>\n",
       "      <td>5258401.00</td>\n",
       "      <td>-258401.00</td>\n",
       "    </tr>\n",
       "    <tr>\n",
       "      <th>2</th>\n",
       "      <td>5000000.0</td>\n",
       "      <td>4292611.50</td>\n",
       "      <td>707388.50</td>\n",
       "    </tr>\n",
       "    <tr>\n",
       "      <th>3</th>\n",
       "      <td>3850000.0</td>\n",
       "      <td>4087656.75</td>\n",
       "      <td>-237656.75</td>\n",
       "    </tr>\n",
       "    <tr>\n",
       "      <th>4</th>\n",
       "      <td>6950000.0</td>\n",
       "      <td>6735010.00</td>\n",
       "      <td>214990.00</td>\n",
       "    </tr>\n",
       "    <tr>\n",
       "      <th>5</th>\n",
       "      <td>3700000.0</td>\n",
       "      <td>3543339.25</td>\n",
       "      <td>156660.75</td>\n",
       "    </tr>\n",
       "    <tr>\n",
       "      <th>6</th>\n",
       "      <td>3800000.0</td>\n",
       "      <td>4512699.50</td>\n",
       "      <td>-712699.50</td>\n",
       "    </tr>\n",
       "    <tr>\n",
       "      <th>7</th>\n",
       "      <td>4900000.0</td>\n",
       "      <td>5703138.00</td>\n",
       "      <td>-803138.00</td>\n",
       "    </tr>\n",
       "    <tr>\n",
       "      <th>8</th>\n",
       "      <td>6500000.0</td>\n",
       "      <td>6355782.00</td>\n",
       "      <td>144218.00</td>\n",
       "    </tr>\n",
       "    <tr>\n",
       "      <th>9</th>\n",
       "      <td>6900000.0</td>\n",
       "      <td>6164922.50</td>\n",
       "      <td>735077.50</td>\n",
       "    </tr>\n",
       "  </tbody>\n",
       "</table>\n",
       "</div>"
      ],
      "text/plain": [
       "   real_prices  predicted_prices        diff\n",
       "0    9800000.0       11931282.00 -2131282.00\n",
       "1    5000000.0        5258401.00  -258401.00\n",
       "2    5000000.0        4292611.50   707388.50\n",
       "3    3850000.0        4087656.75  -237656.75\n",
       "4    6950000.0        6735010.00   214990.00\n",
       "5    3700000.0        3543339.25   156660.75\n",
       "6    3800000.0        4512699.50  -712699.50\n",
       "7    4900000.0        5703138.00  -803138.00\n",
       "8    6500000.0        6355782.00   144218.00\n",
       "9    6900000.0        6164922.50   735077.50"
      ]
     },
     "execution_count": 30,
     "metadata": {},
     "output_type": "execute_result"
    }
   ],
   "source": [
    "df_res = pd.DataFrame({\n",
    "    'real_prices': df_test['price'],\n",
    "    'predicted_prices': pred\n",
    "})\n",
    "\n",
    "df_res['diff'] = df_res['real_prices'] - df_res['predicted_prices']\n",
    "df_res"
   ]
  }
 ],
 "metadata": {
  "kernelspec": {
   "display_name": "Python 3",
   "language": "python",
   "name": "python3"
  },
  "language_info": {
   "codemirror_mode": {
    "name": "ipython",
    "version": 3
   },
   "file_extension": ".py",
   "mimetype": "text/x-python",
   "name": "python",
   "nbconvert_exporter": "python",
   "pygments_lexer": "ipython3",
   "version": "3.7.12"
  },
  "papermill": {
   "default_parameters": {},
   "duration": 1553.088177,
   "end_time": "2023-01-14T23:27:35.840053",
   "environment_variables": {},
   "exception": null,
   "input_path": "__notebook__.ipynb",
   "output_path": "__notebook__.ipynb",
   "parameters": {},
   "start_time": "2023-01-14T23:01:42.751876",
   "version": "2.3.4"
  }
 },
 "nbformat": 4,
 "nbformat_minor": 5
}
